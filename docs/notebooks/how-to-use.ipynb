{
 "cells": [
  {
   "cell_type": "markdown",
   "id": "4f62a2ed-5d0c-4036-b3d2-fb871474ba70",
   "metadata": {},
   "source": [
    "# How to use\n",
    "\n",
    "--- \n",
    "\n",
    "SG4D100M is a moleculer embedding model.\n",
    "\n",
    "This notebook demonstrate how to deploy [SG4D100M](https://aws.amazon.com/marketplace/pp/prodview-soy64f34ucl4g?sr=0-1&ref_=beagle&applicationId=AWSMPContessa) using Amazon SageMaker.\n",
    "\n",
    "--- "
   ]
  },
  {
   "cell_type": "code",
   "execution_count": 1,
   "id": "41bcea18-ff69-4482-99c6-adb05b33acef",
   "metadata": {},
   "outputs": [],
   "source": [
    "!pip install sagemaker polars > /dev/null"
   ]
  },
  {
   "cell_type": "code",
   "execution_count": 2,
   "id": "130f60cf-ff7c-4b3b-b257-7c3a3417febb",
   "metadata": {},
   "outputs": [],
   "source": [
    "import io\n",
    "import polars as pl\n",
    "from sagemaker import ModelPackage\n",
    "import sagemaker as sage\n",
    "from sagemaker import get_execution_role\n",
    "from IPython.display import clear_output"
   ]
  },
  {
   "cell_type": "markdown",
   "id": "5ea27f26-2010-4cf4-96b3-9ef52f12a5ab",
   "metadata": {},
   "source": [
    "## Setup SageMaker Endpiont"
   ]
  },
  {
   "cell_type": "code",
   "execution_count": 4,
   "id": "32dd25e4-6d2d-4045-bbb2-d6f8a4bd3fda",
   "metadata": {},
   "outputs": [],
   "source": [
    "model_package_arn = \"arn:aws:sagemaker:us-east-1:865070037744:model-package/sg4d100m-9-a9336203cfd13fc38a8dd188ac0feaf4\"\n",
    "model_name = \"sg4d100m-1\"\n",
    "content_type = \"application/jsonlines\"\n",
    "instance_type = \"ml.m5.xlarge\"\n",
    "\n",
    "sagemaker_session = sage.Session()\n",
    "role = get_execution_role()\n",
    "model = ModelPackage(\n",
    "    role=role,\n",
    "    model_package_arn=model_package_arn,\n",
    "    sagemaker_session=sagemaker_session,\n",
    ")\n",
    "predictor = model.deploy(\n",
    "    initial_instance_count=1,\n",
    "    instance_type=instance_type,\n",
    "    endpoint_name=model_name,\n",
    ")\n",
    "\n",
    "clear_output()"
   ]
  },
  {
   "cell_type": "markdown",
   "id": "a57da22e-88b6-4f8f-9f1c-2b8e322dda16",
   "metadata": {},
   "source": [
    "## Run inference\n"
   ]
  },
  {
   "cell_type": "markdown",
   "id": "c145deba-4aa4-4477-a048-9e6b3e2b2a63",
   "metadata": {},
   "source": [
    "### Model Input"
   ]
  },
  {
   "cell_type": "code",
   "execution_count": 5,
   "id": "55ef8684-5d9f-4e82-9c3f-fe853ead3af9",
   "metadata": {},
   "outputs": [
    {
     "data": {
      "text/html": [
       "<div><style>\n",
       ".dataframe > thead > tr,\n",
       ".dataframe > tbody > tr {\n",
       "  text-align: right;\n",
       "  white-space: pre-wrap;\n",
       "}\n",
       "</style>\n",
       "<small>shape: (2, 1)</small><table border=\"1\" class=\"dataframe\"><thead><tr><th>smiles</th></tr><tr><td>str</td></tr></thead><tbody><tr><td>&quot;CN1C=NC2=C1C(=O)N(C(=O)N2C)C&quot;</td></tr><tr><td>&quot;CCNC(=O)CC[C@H](N)C(=O)O&quot;</td></tr></tbody></table></div>"
      ],
      "text/plain": [
       "shape: (2, 1)\n",
       "┌──────────────────────────────┐\n",
       "│ smiles                       │\n",
       "│ ---                          │\n",
       "│ str                          │\n",
       "╞══════════════════════════════╡\n",
       "│ CN1C=NC2=C1C(=O)N(C(=O)N2C)C │\n",
       "│ CCNC(=O)CC[C@H](N)C(=O)O     │\n",
       "└──────────────────────────────┘"
      ]
     },
     "execution_count": 5,
     "metadata": {},
     "output_type": "execute_result"
    }
   ],
   "source": [
    "request_df = pl.DataFrame(\n",
    "    [\n",
    "        {\"smiles\": \"CN1C=NC2=C1C(=O)N(C(=O)N2C)C\"},\n",
    "        {\"smiles\": \"CCNC(=O)CC[C@H](N)C(=O)O\"},\n",
    "    ]\n",
    ")\n",
    "request_df"
   ]
  },
  {
   "cell_type": "markdown",
   "id": "4b07cd28-e40d-4a33-afa9-ef50529c9cf9",
   "metadata": {},
   "source": [
    "### Inference on the endpoint"
   ]
  },
  {
   "cell_type": "code",
   "execution_count": 6,
   "id": "340cddfd-6b81-4e0b-9fca-9fb07b3e5ec2",
   "metadata": {},
   "outputs": [],
   "source": [
    "# dataframe -> ndjson\n",
    "request_buf = io.BytesIO()\n",
    "request_df.write_ndjson(request_buf)\n",
    "request_body = request_buf.getvalue()\n",
    "\n",
    "# inference\n",
    "sagemaker_runtime_client = sagemaker_session.sagemaker_runtime_client\n",
    "response = sagemaker_runtime_client.invoke_endpoint(\n",
    "    EndpointName=model_name,\n",
    "    ContentType=\"application/jsonlines\",\n",
    "    Accept=\"application/jsonlines\",\n",
    "    Body=request_body,\n",
    ")\n",
    "\n",
    "# ndjson -> dataframe\n",
    "response_body = response[\"Body\"].read()\n",
    "response_df = pl.read_ndjson(response_body)"
   ]
  },
  {
   "cell_type": "markdown",
   "id": "8bb3b980-975e-4a3b-a8f0-0cc872dae9c6",
   "metadata": {},
   "source": [
    "### Model output"
   ]
  },
  {
   "cell_type": "code",
   "execution_count": 7,
   "id": "472c0e10-60d6-4294-a4e2-378f3c8c0bf0",
   "metadata": {},
   "outputs": [
    {
     "data": {
      "text/html": [
       "<div><style>\n",
       ".dataframe > thead > tr,\n",
       ".dataframe > tbody > tr {\n",
       "  text-align: right;\n",
       "  white-space: pre-wrap;\n",
       "}\n",
       "</style>\n",
       "<small>shape: (2, 2)</small><table border=\"1\" class=\"dataframe\"><thead><tr><th>smiles</th><th>sg4d100m</th></tr><tr><td>str</td><td>list[f64]</td></tr></thead><tbody><tr><td>&quot;CN1C=NC2=C1C(=O)N(C(=O)N2C)C&quot;</td><td>[-8.437966, 4.945457, … 1.488266]</td></tr><tr><td>&quot;CCNC(=O)CC[C@H](N)C(=O)O&quot;</td><td>[-7.948503, 5.331437, … 0.845603]</td></tr></tbody></table></div>"
      ],
      "text/plain": [
       "shape: (2, 2)\n",
       "┌──────────────────────────────┬─────────────────────────────────┐\n",
       "│ smiles                       ┆ sg4d100m                        │\n",
       "│ ---                          ┆ ---                             │\n",
       "│ str                          ┆ list[f64]                       │\n",
       "╞══════════════════════════════╪═════════════════════════════════╡\n",
       "│ CN1C=NC2=C1C(=O)N(C(=O)N2C)C ┆ [-8.437966, 4.945457, … 1.4882… │\n",
       "│ CCNC(=O)CC[C@H](N)C(=O)O     ┆ [-7.948503, 5.331437, … 0.8456… │\n",
       "└──────────────────────────────┴─────────────────────────────────┘"
      ]
     },
     "execution_count": 7,
     "metadata": {},
     "output_type": "execute_result"
    }
   ],
   "source": [
    "response_df"
   ]
  },
  {
   "cell_type": "markdown",
   "id": "8c4e5033-df60-446b-bcb6-1b7feab5908f",
   "metadata": {},
   "source": [
    "## Clean up SageMaker Endpoint"
   ]
  },
  {
   "cell_type": "code",
   "execution_count": 8,
   "id": "c50db835-257f-4fa3-aed3-6549323744e1",
   "metadata": {},
   "outputs": [],
   "source": [
    "model.sagemaker_session.delete_endpoint(model_name)\n",
    "model.sagemaker_session.delete_endpoint_config(model_name)\n",
    "model.delete_model()\n",
    "\n",
    "clear_output()"
   ]
  }
 ],
 "metadata": {
  "kernelspec": {
   "display_name": "base",
   "language": "python",
   "name": "python3"
  },
  "language_info": {
   "codemirror_mode": {
    "name": "ipython",
    "version": 3
   },
   "file_extension": ".py",
   "mimetype": "text/x-python",
   "name": "python",
   "nbconvert_exporter": "python",
   "pygments_lexer": "ipython3",
   "version": "3.12.10"
  }
 },
 "nbformat": 4,
 "nbformat_minor": 5
}
